{
 "cells": [
  {
   "cell_type": "code",
   "execution_count": 3,
   "metadata": {
    "collapsed": false
   },
   "outputs": [
    {
     "name": "stdout",
     "output_type": "stream",
     "text": [
      "Index(['RespondentID', 'Do you celebrate Thanksgiving?',\n",
      "       'What is typically the main dish at your Thanksgiving dinner?',\n",
      "       'What is typically the main dish at your Thanksgiving dinner? - Other (please specify)',\n",
      "       'How is the main dish typically cooked?',\n",
      "       'How is the main dish typically cooked? - Other (please specify)',\n",
      "       'What kind of stuffing/dressing do you typically have?',\n",
      "       'What kind of stuffing/dressing do you typically have? - Other (please specify)',\n",
      "       'What type of cranberry saucedo you typically have?',\n",
      "       'What type of cranberry saucedo you typically have? - Other (please specify)',\n",
      "       'Do you typically have gravy?',\n",
      "       'Which of these side dishes aretypically served at your Thanksgiving dinner? Please select all that apply. - Brussel sprouts',\n",
      "       'Which of these side dishes aretypically served at your Thanksgiving dinner? Please select all that apply. - Carrots',\n",
      "       'Which of these side dishes aretypically served at your Thanksgiving dinner? Please select all that apply. - Cauliflower',\n",
      "       'Which of these side dishes aretypically served at your Thanksgiving dinner? Please select all that apply. - Corn',\n",
      "       'Which of these side dishes aretypically served at your Thanksgiving dinner? Please select all that apply. - Cornbread',\n",
      "       'Which of these side dishes aretypically served at your Thanksgiving dinner? Please select all that apply. - Fruit salad',\n",
      "       'Which of these side dishes aretypically served at your Thanksgiving dinner? Please select all that apply. - Green beans/green bean casserole',\n",
      "       'Which of these side dishes aretypically served at your Thanksgiving dinner? Please select all that apply. - Macaroni and cheese',\n",
      "       'Which of these side dishes aretypically served at your Thanksgiving dinner? Please select all that apply. - Mashed potatoes',\n",
      "       'Which of these side dishes aretypically served at your Thanksgiving dinner? Please select all that apply. - Rolls/biscuits',\n",
      "       'Which of these side dishes aretypically served at your Thanksgiving dinner? Please select all that apply. - Squash',\n",
      "       'Which of these side dishes aretypically served at your Thanksgiving dinner? Please select all that apply. - Vegetable salad',\n",
      "       'Which of these side dishes aretypically served at your Thanksgiving dinner? Please select all that apply. - Yams/sweet potato casserole',\n",
      "       'Which of these side dishes aretypically served at your Thanksgiving dinner? Please select all that apply. - Other (please specify)',\n",
      "       'Which of these side dishes aretypically served at your Thanksgiving dinner? Please select all that apply. - Other (please specify).1',\n",
      "       'Which type of pie is typically served at your Thanksgiving dinner? Please select all that apply. - Apple',\n",
      "       'Which type of pie is typically served at your Thanksgiving dinner? Please select all that apply. - Buttermilk',\n",
      "       'Which type of pie is typically served at your Thanksgiving dinner? Please select all that apply. - Cherry',\n",
      "       'Which type of pie is typically served at your Thanksgiving dinner? Please select all that apply. - Chocolate',\n",
      "       'Which type of pie is typically served at your Thanksgiving dinner? Please select all that apply. - Coconut cream',\n",
      "       'Which type of pie is typically served at your Thanksgiving dinner? Please select all that apply. - Key lime',\n",
      "       'Which type of pie is typically served at your Thanksgiving dinner? Please select all that apply. - Peach',\n",
      "       'Which type of pie is typically served at your Thanksgiving dinner? Please select all that apply. - Pecan',\n",
      "       'Which type of pie is typically served at your Thanksgiving dinner? Please select all that apply. - Pumpkin',\n",
      "       'Which type of pie is typically served at your Thanksgiving dinner? Please select all that apply. - Sweet Potato',\n",
      "       'Which type of pie is typically served at your Thanksgiving dinner? Please select all that apply. - None',\n",
      "       'Which type of pie is typically served at your Thanksgiving dinner? Please select all that apply. - Other (please specify)',\n",
      "       'Which type of pie is typically served at your Thanksgiving dinner? Please select all that apply. - Other (please specify).1',\n",
      "       'Which of these desserts do you typically have at Thanksgiving dinner? Please select all that apply.   - Apple cobbler',\n",
      "       'Which of these desserts do you typically have at Thanksgiving dinner? Please select all that apply.   - Blondies',\n",
      "       'Which of these desserts do you typically have at Thanksgiving dinner? Please select all that apply.   - Brownies',\n",
      "       'Which of these desserts do you typically have at Thanksgiving dinner? Please select all that apply.   - Carrot cake',\n",
      "       'Which of these desserts do you typically have at Thanksgiving dinner? Please select all that apply.   - Cheesecake',\n",
      "       'Which of these desserts do you typically have at Thanksgiving dinner? Please select all that apply.   - Cookies',\n",
      "       'Which of these desserts do you typically have at Thanksgiving dinner? Please select all that apply.   - Fudge',\n",
      "       'Which of these desserts do you typically have at Thanksgiving dinner? Please select all that apply.   - Ice cream',\n",
      "       'Which of these desserts do you typically have at Thanksgiving dinner? Please select all that apply.   - Peach cobbler',\n",
      "       'Which of these desserts do you typically have at Thanksgiving dinner? Please select all that apply.   - None',\n",
      "       'Which of these desserts do you typically have at Thanksgiving dinner? Please select all that apply.   - Other (please specify)',\n",
      "       'Which of these desserts do you typically have at Thanksgiving dinner? Please select all that apply.   - Other (please specify).1',\n",
      "       'Do you typically pray before or after the Thanksgiving meal?',\n",
      "       'How far will you travel for Thanksgiving?',\n",
      "       'Will you watch any of the following programs on Thanksgiving? Please select all that apply. - Macy's Parade',\n",
      "       'What's the age cutoff at your \"kids' table\" at Thanksgiving?',\n",
      "       'Have you ever tried to meet up with hometown friends on Thanksgiving night?',\n",
      "       'Have you ever attended a \"Friendsgiving?\"',\n",
      "       'Will you shop any Black Friday sales on Thanksgiving Day?',\n",
      "       'Do you work in retail?',\n",
      "       'Will you employer make you work on Black Friday?',\n",
      "       'How would you describe where you live?', 'Age', 'What is your gender?',\n",
      "       'How much total combined money did all members of your HOUSEHOLD earn last year?',\n",
      "       'US Region'],\n",
      "      dtype='object')\n"
     ]
    }
   ],
   "source": [
    "import pandas as pd\n",
    "\n",
    "data = pd.read_csv(\"thanksgiving.csv\", encoding=\"Latin-1\")\n",
    "\n",
    "print(data.columns)"
   ]
  },
  {
   "cell_type": "code",
   "execution_count": 22,
   "metadata": {
    "collapsed": false,
    "scrolled": false
   },
   "outputs": [
    {
     "name": "stdout",
     "output_type": "stream",
     "text": [
      "Yes              43\n",
      "No               20\n",
      "Doesn't apply     7\n",
      "Name: Will you employer make you work on Black Friday?, dtype: int64\n"
     ]
    }
   ],
   "source": [
    "import pandas as pd\n",
    "\n",
    "# Read CSV\n",
    "data = pd.read_csv(\"thanksgiving.csv\", encoding=\"Latin-1\")\n",
    "\n",
    "# Select only people who celebrate Thanksgiving\n",
    "data = data[data['Do you celebrate Thanksgiving?'] == 'Yes']\n",
    "\n",
    "to_furkey = data[data['What is typically the main dish at your Thanksgiving dinner?'] == 'Tofurkey']\n",
    "\n",
    "apple_isnull = data['Which type of pie is typically served at your Thanksgiving dinner? Please select all that apply. - Apple'].isnull()\n",
    "pumpkin_isnull = data['Which type of pie is typically served at your Thanksgiving dinner? Please select all that apply. - Pumpkin'].isnull()\n",
    "pecan_isnull = data['Which type of pie is typically served at your Thanksgiving dinner? Please select all that apply. - Pecan']\n",
    "\n",
    "no_pies = apple_isnull & pumpkin_isnull & pecan_isnull\n",
    "\n",
    "def str_to_age(str):\n",
    "    if pd.isnull(str):\n",
    "        return None\n",
    "    \n",
    "    age = str.split(' ')[0].replace(\"+\", \" \")\n",
    "    return int(age)\n",
    "\n",
    "data[\"int_age\"] = data['Age'].apply(str_to_age)\n",
    "#print(int_age.describe())\n",
    "\n",
    "def str_to_earnings(str):\n",
    "    if pd.isnull(str):\n",
    "        return None\n",
    "    earnings = str.split( )[0]\n",
    "    \n",
    "    if earnings == \"Prefer\":\n",
    "        return None\n",
    "    \n",
    "    earnings = earnings.replace('$', '').replace(',', '')\n",
    "    \n",
    "    return int(earnings)\n",
    "\n",
    "data[\"int_income\"] = data['How much total combined money did all members of your HOUSEHOLD earn last year?'].apply(str_to_earnings)\n",
    "#print(int_income.describe())\n",
    "\n",
    "less_than150000 = data[data[\"int_income\"] < 150000]['How far will you travel for Thanksgiving?']\n",
    "#print(less_than150000.value_counts())\n",
    "\n",
    "over_than150000 = data[data[\"int_income\"] > 150000]['How far will you travel for Thanksgiving?']\n",
    "#print(over_than150000.value_counts())\n",
    "\n",
    "friendsgiving = data.pivot_table(\n",
    "    index=[\"Have you ever tried to meet up with hometown friends on Thanksgiving night?\"],\n",
    "    columns=['Have you ever attended a \"Friendsgiving?\"'],\n",
    "    values=\"int_age\")\n",
    "\n",
    "avg_income_friendsgiving = data.pivot_table(\n",
    "    index=[\"Have you ever tried to meet up with hometown friends on Thanksgiving night?\"],\n",
    "    columns=['Have you ever attended a \"Friendsgiving?\"'],\n",
    "    values=\"int_income\")\n",
    "\n",
    "# Finding the most common dessert people eat\n",
    "\n",
    "apple_cobbler = data['Which of these desserts do you typically have at Thanksgiving dinner? Please select all that apply.   - Apple cobbler']\n",
    "blondies = data['Which of these desserts do you typically have at Thanksgiving dinner? Please select all that apply.   - Blondies']\n",
    "brownies = data['Which of these desserts do you typically have at Thanksgiving dinner? Please select all that apply.   - Brownies']\n",
    "carrot_take = data['Which of these desserts do you typically have at Thanksgiving dinner? Please select all that apply.   - Carrot cake']\n",
    "cheesecake = data['Which of these desserts do you typically have at Thanksgiving dinner? Please select all that apply.   - Cheesecake']\n",
    "cookies = data['Which of these desserts do you typically have at Thanksgiving dinner? Please select all that apply.   - Cookies']\n",
    "fudge = data['Which of these desserts do you typically have at Thanksgiving dinner? Please select all that apply.   - Fudge']\n",
    "ice_cream = data['Which of these desserts do you typically have at Thanksgiving dinner? Please select all that apply.   - Ice cream']\n",
    "peach_cobbler = data['Which of these desserts do you typically have at Thanksgiving dinner? Please select all that apply.   - Peach cobbler']\n",
    "\n",
    "'''print(apple_cobbler.value_counts())\n",
    "print(blondies.value_counts())\n",
    "print(brownies.value_counts())\n",
    "print(carrot_take.value_counts())\n",
    "print(cheesecake.value_counts())\n",
    "print(cookies.value_counts())\n",
    "print(fudge.value_counts())\n",
    "print(ice_cream.value_counts())\n",
    "print(peach_cobbler.value_counts())'''\n",
    "\n",
    "will_work = data['Will you employer make you work on Black Friday?'].value_counts()\n",
    "print(will_work)"
   ]
  },
  {
   "cell_type": "code",
   "execution_count": null,
   "metadata": {
    "collapsed": false
   },
   "outputs": [],
   "source": [
    "# Ice Cream seems to be the most common dessert people eat. (266)"
   ]
  },
  {
   "cell_type": "code",
   "execution_count": null,
   "metadata": {
    "collapsed": true
   },
   "outputs": [],
   "source": [
    "# 43 people will work on Thanksgiving"
   ]
  }
 ],
 "metadata": {
  "kernelspec": {
   "display_name": "Python 3",
   "language": "python",
   "name": "python3"
  },
  "language_info": {
   "codemirror_mode": {
    "name": "ipython",
    "version": 3
   },
   "file_extension": ".py",
   "mimetype": "text/x-python",
   "name": "python",
   "nbconvert_exporter": "python",
   "pygments_lexer": "ipython3",
   "version": "3.4.3"
  }
 },
 "nbformat": 4,
 "nbformat_minor": 0
}
